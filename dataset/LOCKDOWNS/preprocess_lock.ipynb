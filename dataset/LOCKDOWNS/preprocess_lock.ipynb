{
 "cells": [
  {
   "cell_type": "code",
   "execution_count": 40,
   "metadata": {},
   "outputs": [],
   "source": [
    "import pandas as pd"
   ]
  },
  {
   "cell_type": "code",
   "execution_count": 41,
   "metadata": {},
   "outputs": [
    {
     "data": {
      "text/html": [
       "<div>\n",
       "<style scoped>\n",
       "    .dataframe tbody tr th:only-of-type {\n",
       "        vertical-align: middle;\n",
       "    }\n",
       "\n",
       "    .dataframe tbody tr th {\n",
       "        vertical-align: top;\n",
       "    }\n",
       "\n",
       "    .dataframe thead th {\n",
       "        text-align: right;\n",
       "    }\n",
       "</style>\n",
       "<table border=\"1\" class=\"dataframe\">\n",
       "  <thead>\n",
       "    <tr style=\"text-align: right;\">\n",
       "      <th></th>\n",
       "      <th>country</th>\n",
       "      <th>measure</th>\n",
       "      <th>date_start</th>\n",
       "      <th>date_end</th>\n",
       "    </tr>\n",
       "  </thead>\n",
       "  <tbody>\n",
       "    <tr>\n",
       "      <th>0</th>\n",
       "      <td>Austria</td>\n",
       "      <td>AdaptationOfWorkplace</td>\n",
       "      <td>2020-03-16</td>\n",
       "      <td>2020-04-13</td>\n",
       "    </tr>\n",
       "    <tr>\n",
       "      <th>1</th>\n",
       "      <td>Austria</td>\n",
       "      <td>AdaptationOfWorkplace</td>\n",
       "      <td>2021-04-01</td>\n",
       "      <td>2022-03-05</td>\n",
       "    </tr>\n",
       "    <tr>\n",
       "      <th>2</th>\n",
       "      <td>Austria</td>\n",
       "      <td>BanOnAllEvents</td>\n",
       "      <td>2020-11-03</td>\n",
       "      <td>2021-05-18</td>\n",
       "    </tr>\n",
       "    <tr>\n",
       "      <th>3</th>\n",
       "      <td>Austria</td>\n",
       "      <td>ClosDaycare</td>\n",
       "      <td>2020-03-16</td>\n",
       "      <td>2020-05-04</td>\n",
       "    </tr>\n",
       "    <tr>\n",
       "      <th>4</th>\n",
       "      <td>Austria</td>\n",
       "      <td>ClosHigh</td>\n",
       "      <td>2020-03-16</td>\n",
       "      <td>2020-09-30</td>\n",
       "    </tr>\n",
       "  </tbody>\n",
       "</table>\n",
       "</div>"
      ],
      "text/plain": [
       "   country                measure  date_start    date_end\n",
       "0  Austria  AdaptationOfWorkplace  2020-03-16  2020-04-13\n",
       "1  Austria  AdaptationOfWorkplace  2021-04-01  2022-03-05\n",
       "2  Austria         BanOnAllEvents  2020-11-03  2021-05-18\n",
       "3  Austria            ClosDaycare  2020-03-16  2020-05-04\n",
       "4  Austria               ClosHigh  2020-03-16  2020-09-30"
      ]
     },
     "execution_count": 41,
     "metadata": {},
     "output_type": "execute_result"
    }
   ],
   "source": [
    "df = pd.read_csv('lockdowns_2022-08-25.csv')\n",
    "df.columns = df.columns.str.strip()\n",
    "df = df.apply(lambda x: x.str.strip() if x.dtype == \"object\" else x)\n",
    "df.head()"
   ]
  },
  {
   "cell_type": "code",
   "execution_count": 42,
   "metadata": {},
   "outputs": [
    {
     "data": {
      "text/html": [
       "<div>\n",
       "<style scoped>\n",
       "    .dataframe tbody tr th:only-of-type {\n",
       "        vertical-align: middle;\n",
       "    }\n",
       "\n",
       "    .dataframe tbody tr th {\n",
       "        vertical-align: top;\n",
       "    }\n",
       "\n",
       "    .dataframe thead th {\n",
       "        text-align: right;\n",
       "    }\n",
       "</style>\n",
       "<table border=\"1\" class=\"dataframe\">\n",
       "  <thead>\n",
       "    <tr style=\"text-align: right;\">\n",
       "      <th></th>\n",
       "      <th>measure</th>\n",
       "      <th>description</th>\n",
       "    </tr>\n",
       "  </thead>\n",
       "  <tbody>\n",
       "    <tr>\n",
       "      <th>0</th>\n",
       "      <td>StayHomeOrder</td>\n",
       "      <td>Stay-at-home orders for the general population...</td>\n",
       "    </tr>\n",
       "    <tr>\n",
       "      <th>1</th>\n",
       "      <td>RegionalStayHomeOrder</td>\n",
       "      <td>Regional stay-at-home orders for the general p...</td>\n",
       "    </tr>\n",
       "    <tr>\n",
       "      <th>2</th>\n",
       "      <td>StayHomeGen</td>\n",
       "      <td>Stay-at-home recommendations for the general p...</td>\n",
       "    </tr>\n",
       "    <tr>\n",
       "      <th>3</th>\n",
       "      <td>StayHomeRiskG</td>\n",
       "      <td>Stay-at-home recommendations for risk groups o...</td>\n",
       "    </tr>\n",
       "    <tr>\n",
       "      <th>4</th>\n",
       "      <td>SocialCircle</td>\n",
       "      <td>Social circle/bubble to limit social contacts ...</td>\n",
       "    </tr>\n",
       "  </tbody>\n",
       "</table>\n",
       "</div>"
      ],
      "text/plain": [
       "                 measure                                        description\n",
       "0          StayHomeOrder  Stay-at-home orders for the general population...\n",
       "1  RegionalStayHomeOrder  Regional stay-at-home orders for the general p...\n",
       "2            StayHomeGen  Stay-at-home recommendations for the general p...\n",
       "3          StayHomeRiskG  Stay-at-home recommendations for risk groups o...\n",
       "4           SocialCircle  Social circle/bubble to limit social contacts ..."
      ]
     },
     "execution_count": 42,
     "metadata": {},
     "output_type": "execute_result"
    }
   ],
   "source": [
    "var_dict = pd.read_csv(\"variable_dictionary.csv\")\n",
    "var_dict.head()"
   ]
  },
  {
   "cell_type": "code",
   "execution_count": 43,
   "metadata": {},
   "outputs": [],
   "source": [
    "df[\"description\"] = df[\"measure\"].map(\n",
    "    var_dict.set_index('measure')['description'])\n",
    "\n",
    "df = df[['country', 'measure', 'description', 'date_start', 'date_end']]"
   ]
  },
  {
   "cell_type": "code",
   "execution_count": 44,
   "metadata": {},
   "outputs": [
    {
     "data": {
      "text/html": [
       "<div>\n",
       "<style scoped>\n",
       "    .dataframe tbody tr th:only-of-type {\n",
       "        vertical-align: middle;\n",
       "    }\n",
       "\n",
       "    .dataframe tbody tr th {\n",
       "        vertical-align: top;\n",
       "    }\n",
       "\n",
       "    .dataframe thead th {\n",
       "        text-align: right;\n",
       "    }\n",
       "</style>\n",
       "<table border=\"1\" class=\"dataframe\">\n",
       "  <thead>\n",
       "    <tr style=\"text-align: right;\">\n",
       "      <th></th>\n",
       "      <th>country</th>\n",
       "      <th>measure</th>\n",
       "      <th>description</th>\n",
       "      <th>date_start</th>\n",
       "      <th>date_end</th>\n",
       "    </tr>\n",
       "  </thead>\n",
       "  <tbody>\n",
       "    <tr>\n",
       "      <th>0</th>\n",
       "      <td>Austria</td>\n",
       "      <td>AdaptationOfWorkplace</td>\n",
       "      <td>Adaptation of workplaces (e.g. to reduce risk ...</td>\n",
       "      <td>2020-03-16</td>\n",
       "      <td>2020-04-13</td>\n",
       "    </tr>\n",
       "    <tr>\n",
       "      <th>1</th>\n",
       "      <td>Austria</td>\n",
       "      <td>AdaptationOfWorkplace</td>\n",
       "      <td>Adaptation of workplaces (e.g. to reduce risk ...</td>\n",
       "      <td>2021-04-01</td>\n",
       "      <td>2022-03-05</td>\n",
       "    </tr>\n",
       "    <tr>\n",
       "      <th>2</th>\n",
       "      <td>Austria</td>\n",
       "      <td>BanOnAllEvents</td>\n",
       "      <td>Interventions are in place to limit all indoor...</td>\n",
       "      <td>2020-11-03</td>\n",
       "      <td>2021-05-18</td>\n",
       "    </tr>\n",
       "    <tr>\n",
       "      <th>3</th>\n",
       "      <td>Austria</td>\n",
       "      <td>ClosDaycare</td>\n",
       "      <td>Closure of educational institutions: daycare o...</td>\n",
       "      <td>2020-03-16</td>\n",
       "      <td>2020-05-04</td>\n",
       "    </tr>\n",
       "    <tr>\n",
       "      <th>4</th>\n",
       "      <td>Austria</td>\n",
       "      <td>ClosHigh</td>\n",
       "      <td>Closure of educational institutions: higher ed...</td>\n",
       "      <td>2020-03-16</td>\n",
       "      <td>2020-09-30</td>\n",
       "    </tr>\n",
       "  </tbody>\n",
       "</table>\n",
       "</div>"
      ],
      "text/plain": [
       "   country                measure  \\\n",
       "0  Austria  AdaptationOfWorkplace   \n",
       "1  Austria  AdaptationOfWorkplace   \n",
       "2  Austria         BanOnAllEvents   \n",
       "3  Austria            ClosDaycare   \n",
       "4  Austria               ClosHigh   \n",
       "\n",
       "                                         description  date_start    date_end  \n",
       "0  Adaptation of workplaces (e.g. to reduce risk ...  2020-03-16  2020-04-13  \n",
       "1  Adaptation of workplaces (e.g. to reduce risk ...  2021-04-01  2022-03-05  \n",
       "2  Interventions are in place to limit all indoor...  2020-11-03  2021-05-18  \n",
       "3  Closure of educational institutions: daycare o...  2020-03-16  2020-05-04  \n",
       "4  Closure of educational institutions: higher ed...  2020-03-16  2020-09-30  "
      ]
     },
     "execution_count": 44,
     "metadata": {},
     "output_type": "execute_result"
    }
   ],
   "source": [
    "df.head()"
   ]
  },
  {
   "cell_type": "code",
   "execution_count": 45,
   "metadata": {},
   "outputs": [],
   "source": [
    "df.to_csv(\"./clean/lockdonws_2022-08-25.csv\", index=False)"
   ]
  }
 ],
 "metadata": {
  "kernelspec": {
   "display_name": "general",
   "language": "python",
   "name": "python3"
  },
  "language_info": {
   "codemirror_mode": {
    "name": "ipython",
    "version": 3
   },
   "file_extension": ".py",
   "mimetype": "text/x-python",
   "name": "python",
   "nbconvert_exporter": "python",
   "pygments_lexer": "ipython3",
   "version": "3.12.8"
  }
 },
 "nbformat": 4,
 "nbformat_minor": 2
}
