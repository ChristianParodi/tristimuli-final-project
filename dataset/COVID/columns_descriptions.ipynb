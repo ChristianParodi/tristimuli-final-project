{
 "cells": [
  {
   "cell_type": "code",
   "execution_count": 58,
   "metadata": {},
   "outputs": [],
   "source": [
    "import pandas as pd\n",
    "\n",
    "data = pd.read_csv('covid.csv')"
   ]
  },
  {
   "cell_type": "code",
   "execution_count": 59,
   "metadata": {},
   "outputs": [
    {
     "name": "stdout",
     "output_type": "stream",
     "text": [
      "<class 'pandas.core.frame.DataFrame'>\n",
      "RangeIndex: 466967 entries, 0 to 466966\n",
      "Data columns (total 61 columns):\n",
      " #   Column                                      Non-Null Count   Dtype  \n",
      "---  ------                                      --------------   -----  \n",
      " 0   country                                     466967 non-null  object \n",
      " 1   date                                        466967 non-null  object \n",
      " 2   total_cases                                 455500 non-null  float64\n",
      " 3   new_cases                                   453216 non-null  float64\n",
      " 4   new_cases_smoothed                          451996 non-null  float64\n",
      " 5   total_cases_per_million                     455500 non-null  float64\n",
      " 6   new_cases_per_million                       453216 non-null  float64\n",
      " 7   new_cases_smoothed_per_million              451996 non-null  float64\n",
      " 8   total_deaths                                455500 non-null  float64\n",
      " 9   new_deaths                                  453845 non-null  float64\n",
      " 10  new_deaths_smoothed                         452628 non-null  float64\n",
      " 11  total_deaths_per_million                    455500 non-null  float64\n",
      " 12  new_deaths_per_million                      453845 non-null  float64\n",
      " 13  new_deaths_smoothed_per_million             452628 non-null  float64\n",
      " 14  excess_mortality                            13596 non-null   float64\n",
      " 15  excess_mortality_cumulative                 13596 non-null   float64\n",
      " 16  excess_mortality_cumulative_absolute        13596 non-null   float64\n",
      " 17  excess_mortality_cumulative_per_million     13562 non-null   float64\n",
      " 18  hosp_patients                               40656 non-null   float64\n",
      " 19  hosp_patients_per_million                   40656 non-null   float64\n",
      " 20  weekly_hosp_admissions                      24497 non-null   float64\n",
      " 21  weekly_hosp_admissions_per_million          24497 non-null   float64\n",
      " 22  icu_patients                                39116 non-null   float64\n",
      " 23  icu_patients_per_million                    39116 non-null   float64\n",
      " 24  weekly_icu_admissions                       10993 non-null   float64\n",
      " 25  weekly_icu_admissions_per_million           10993 non-null   float64\n",
      " 26  stringency_index                            202760 non-null  float64\n",
      " 27  reproduction_rate                           185683 non-null  float64\n",
      " 28  total_tests                                 79387 non-null   float64\n",
      " 29  new_tests                                   75403 non-null   float64\n",
      " 30  total_tests_per_thousand                    79387 non-null   float64\n",
      " 31  new_tests_per_thousand                      75403 non-null   float64\n",
      " 32  new_tests_smoothed                          103965 non-null  float64\n",
      " 33  new_tests_smoothed_per_thousand             103965 non-null  float64\n",
      " 34  positive_rate                               102359 non-null  float64\n",
      " 35  tests_per_case                              101444 non-null  float64\n",
      " 36  total_vaccinations                          83222 non-null   float64\n",
      " 37  people_vaccinated                           79011 non-null   float64\n",
      " 38  people_fully_vaccinated                     77011 non-null   float64\n",
      " 39  total_boosters                              58784 non-null   float64\n",
      " 40  new_vaccinations                            68876 non-null   float64\n",
      " 41  new_vaccinations_smoothed                   202840 non-null  float64\n",
      " 42  total_vaccinations_per_hundred              83222 non-null   float64\n",
      " 43  people_vaccinated_per_hundred               79011 non-null   float64\n",
      " 44  people_fully_vaccinated_per_hundred         77011 non-null   float64\n",
      " 45  total_boosters_per_hundred                  58784 non-null   float64\n",
      " 46  new_vaccinations_smoothed_per_million       202840 non-null  float64\n",
      " 47  new_people_vaccinated_smoothed              202840 non-null  float64\n",
      " 48  new_people_vaccinated_smoothed_per_hundred  202840 non-null  float64\n",
      " 49  code                                        445891 non-null  object \n",
      " 50  continent                                   431255 non-null  object \n",
      " 51  population                                  451297 non-null  float64\n",
      " 52  population_density                          444005 non-null  float64\n",
      " 53  median_age                                  445831 non-null  float64\n",
      " 54  life_expectancy                             0 non-null       float64\n",
      " 55  gdp_per_capita                              364221 non-null  float64\n",
      " 56  extreme_poverty                             293397 non-null  float64\n",
      " 57  diabetes_prevalence                         393412 non-null  float64\n",
      " 58  handwashing_facilities                      211683 non-null  float64\n",
      " 59  hospital_beds_per_thousand                  281061 non-null  float64\n",
      " 60  human_development_index                     373945 non-null  float64\n",
      "dtypes: float64(57), object(4)\n",
      "memory usage: 217.3+ MB\n"
     ]
    }
   ],
   "source": [
    "data.info()"
   ]
  },
  {
   "cell_type": "code",
   "execution_count": 60,
   "metadata": {},
   "outputs": [],
   "source": [
    "data = data.drop(columns=['life_expectancy'])"
   ]
  },
  {
   "cell_type": "code",
   "execution_count": 61,
   "metadata": {},
   "outputs": [],
   "source": [
    "import json\n",
    "\n",
    "with open('compact.meta.json', 'r') as file:\n",
    "\tmetadata = json.load(file)\n",
    " \n",
    "fields = metadata['fields']"
   ]
  },
  {
   "cell_type": "code",
   "execution_count": 62,
   "metadata": {},
   "outputs": [],
   "source": [
    "col_desc = pd.DataFrame()\n",
    "col_desc['column'] = data.columns\n",
    "col_desc['description'] = col_desc['column'].apply(\n",
    "\tlambda x: fields[x]['description'] if x in fields and 'description' in fields[x] else (\n",
    "\t\t\tfields[x]['description_short'] if x in fields and 'description_short' in fields[x] else (\n",
    "\t\t\tfields[x]['title'] if x in fields and 'title' in fields[x] else 'No description available'\n",
    "\t\t)\n",
    "\t)\n",
    ")\n",
    "\n",
    "col_desc['description'] = col_desc['description'].str.replace('\\n', '')"
   ]
  },
  {
   "cell_type": "code",
   "execution_count": 63,
   "metadata": {},
   "outputs": [
    {
     "name": "stdout",
     "output_type": "stream",
     "text": [
      "<class 'pandas.core.frame.DataFrame'>\n",
      "RangeIndex: 60 entries, 0 to 59\n",
      "Data columns (total 2 columns):\n",
      " #   Column       Non-Null Count  Dtype \n",
      "---  ------       --------------  ----- \n",
      " 0   column       60 non-null     object\n",
      " 1   description  60 non-null     object\n",
      "dtypes: object(2)\n",
      "memory usage: 1.1+ KB\n"
     ]
    }
   ],
   "source": [
    "col_desc.info()"
   ]
  },
  {
   "cell_type": "code",
   "execution_count": 64,
   "metadata": {},
   "outputs": [],
   "source": [
    "data['year'] = data['date'].apply(lambda x: x.split('-')[0])\n",
    "data['month'] = data['date'].apply(lambda x: x.split('-')[1])\n",
    "data['day'] = data['date'].apply(lambda x: x.split('-')[2])\n",
    "data = data.drop(columns=['date'])\n",
    "\n",
    "last_three_columns = data.iloc[:, -3:]\n",
    "remaining_columns = data.iloc[:, :-3]\n",
    "data = pd.concat([remaining_columns.iloc[:, :2], last_three_columns, remaining_columns.iloc[:, 2:]], axis=1)\n",
    "\n",
    "col_desc = pd.concat([col_desc, pd.DataFrame([\n",
    "\t{'column': 'year', 'description': 'Year of the observations.'},\n",
    "\t{'column': 'month', 'description': 'Month of the observations.'},\n",
    "\t{'column': 'day', 'description': 'Day of the observations.'}\n",
    "])], ignore_index=True)\n",
    "\n",
    "col_desc = col_desc[col_desc['column'] != 'date']"
   ]
  },
  {
   "cell_type": "code",
   "execution_count": 65,
   "metadata": {},
   "outputs": [
    {
     "data": {
      "text/html": [
       "<div>\n",
       "<style scoped>\n",
       "    .dataframe tbody tr th:only-of-type {\n",
       "        vertical-align: middle;\n",
       "    }\n",
       "\n",
       "    .dataframe tbody tr th {\n",
       "        vertical-align: top;\n",
       "    }\n",
       "\n",
       "    .dataframe thead th {\n",
       "        text-align: right;\n",
       "    }\n",
       "</style>\n",
       "<table border=\"1\" class=\"dataframe\">\n",
       "  <thead>\n",
       "    <tr style=\"text-align: right;\">\n",
       "      <th></th>\n",
       "      <th>column</th>\n",
       "      <th>description</th>\n",
       "    </tr>\n",
       "  </thead>\n",
       "  <tbody>\n",
       "    <tr>\n",
       "      <th>0</th>\n",
       "      <td>country</td>\n",
       "      <td>Region name.</td>\n",
       "    </tr>\n",
       "    <tr>\n",
       "      <th>1</th>\n",
       "      <td>total_cases</td>\n",
       "      <td>Total confirmed cases of COVID-19. Counts can ...</td>\n",
       "    </tr>\n",
       "    <tr>\n",
       "      <th>2</th>\n",
       "      <td>year</td>\n",
       "      <td>Year of the observations.</td>\n",
       "    </tr>\n",
       "    <tr>\n",
       "      <th>3</th>\n",
       "      <td>month</td>\n",
       "      <td>Month of the observations.</td>\n",
       "    </tr>\n",
       "    <tr>\n",
       "      <th>4</th>\n",
       "      <td>day</td>\n",
       "      <td>Day of the observations.</td>\n",
       "    </tr>\n",
       "    <tr>\n",
       "      <th>...</th>\n",
       "      <td>...</td>\n",
       "      <td>...</td>\n",
       "    </tr>\n",
       "    <tr>\n",
       "      <th>57</th>\n",
       "      <td>extreme_poverty</td>\n",
       "      <td>Percentage of population living in households ...</td>\n",
       "    </tr>\n",
       "    <tr>\n",
       "      <th>58</th>\n",
       "      <td>diabetes_prevalence</td>\n",
       "      <td>Diabetes prevalence (% of population ages 20 t...</td>\n",
       "    </tr>\n",
       "    <tr>\n",
       "      <th>59</th>\n",
       "      <td>handwashing_facilities</td>\n",
       "      <td>Share of the population with access to a handw...</td>\n",
       "    </tr>\n",
       "    <tr>\n",
       "      <th>60</th>\n",
       "      <td>hospital_beds_per_thousand</td>\n",
       "      <td>Hospital beds (per 1,000 people)</td>\n",
       "    </tr>\n",
       "    <tr>\n",
       "      <th>61</th>\n",
       "      <td>human_development_index</td>\n",
       "      <td>The HDI is a summary measure of key dimensions...</td>\n",
       "    </tr>\n",
       "  </tbody>\n",
       "</table>\n",
       "<p>62 rows × 2 columns</p>\n",
       "</div>"
      ],
      "text/plain": [
       "                        column  \\\n",
       "0                      country   \n",
       "1                  total_cases   \n",
       "2                         year   \n",
       "3                        month   \n",
       "4                          day   \n",
       "..                         ...   \n",
       "57             extreme_poverty   \n",
       "58         diabetes_prevalence   \n",
       "59      handwashing_facilities   \n",
       "60  hospital_beds_per_thousand   \n",
       "61     human_development_index   \n",
       "\n",
       "                                          description  \n",
       "0                                        Region name.  \n",
       "1   Total confirmed cases of COVID-19. Counts can ...  \n",
       "2                           Year of the observations.  \n",
       "3                          Month of the observations.  \n",
       "4                            Day of the observations.  \n",
       "..                                                ...  \n",
       "57  Percentage of population living in households ...  \n",
       "58  Diabetes prevalence (% of population ages 20 t...  \n",
       "59  Share of the population with access to a handw...  \n",
       "60                   Hospital beds (per 1,000 people)  \n",
       "61  The HDI is a summary measure of key dimensions...  \n",
       "\n",
       "[62 rows x 2 columns]"
      ]
     },
     "execution_count": 65,
     "metadata": {},
     "output_type": "execute_result"
    }
   ],
   "source": [
    "# Move the last 3 rows to be the 3rd, 4th, and 5th rows\n",
    "last_three_rows = col_desc.iloc[-3:]\n",
    "remaining_rows = col_desc.iloc[:-3]\n",
    "col_desc = pd.concat([remaining_rows.iloc[:2], last_three_rows, remaining_rows.iloc[2:]]).reset_index(drop=True)\n",
    "col_desc"
   ]
  },
  {
   "cell_type": "code",
   "execution_count": 66,
   "metadata": {},
   "outputs": [],
   "source": [
    "col_desc.to_csv(\"columns_description.csv\", index=False)"
   ]
  },
  {
   "cell_type": "code",
   "execution_count": 67,
   "metadata": {},
   "outputs": [],
   "source": [
    "data.to_csv(\"covid.csv\", index=False)"
   ]
  }
 ],
 "metadata": {
  "kernelspec": {
   "display_name": "base",
   "language": "python",
   "name": "python3"
  },
  "language_info": {
   "codemirror_mode": {
    "name": "ipython",
    "version": 3
   },
   "file_extension": ".py",
   "mimetype": "text/x-python",
   "name": "python",
   "nbconvert_exporter": "python",
   "pygments_lexer": "ipython3",
   "version": "3.11.5"
  }
 },
 "nbformat": 4,
 "nbformat_minor": 2
}
